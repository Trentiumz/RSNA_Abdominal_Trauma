{
 "cells": [
  {
   "cell_type": "markdown",
   "id": "c9902f4e",
   "metadata": {
    "papermill": {
     "duration": 0.004055,
     "end_time": "2023-10-15T12:12:44.099086",
     "exception": false,
     "start_time": "2023-10-15T12:12:44.095031",
     "status": "completed"
    },
    "pycharm": {
     "name": "#%% md\n"
    },
    "tags": []
   },
   "source": [
    "#### Kaggle Setup"
   ]
  },
  {
   "cell_type": "code",
   "execution_count": 1,
   "id": "22f97aa7",
   "metadata": {
    "collapsed": false,
    "execution": {
     "iopub.execute_input": "2023-10-15T12:12:44.107940Z",
     "iopub.status.busy": "2023-10-15T12:12:44.107626Z",
     "iopub.status.idle": "2023-10-15T12:12:44.115142Z",
     "shell.execute_reply": "2023-10-15T12:12:44.114314Z"
    },
    "jupyter": {
     "outputs_hidden": false
    },
    "papermill": {
     "duration": 0.014016,
     "end_time": "2023-10-15T12:12:44.116754",
     "exception": false,
     "start_time": "2023-10-15T12:12:44.102738",
     "status": "completed"
    },
    "pycharm": {
     "name": "#%%\n"
    },
    "tags": []
   },
   "outputs": [],
   "source": [
    "# the data root for kaggle submission\n",
    "data_root = '/kaggle/input/rsna-2023-abdominal-trauma-detection'\n",
    "model_path = '/kaggle/input/epoch-1-batch14-pth/epoch_1_batch14.pth'"
   ]
  },
  {
   "cell_type": "markdown",
   "id": "0deec9fc",
   "metadata": {
    "papermill": {
     "duration": 0.003222,
     "end_time": "2023-10-15T12:12:44.123496",
     "exception": false,
     "start_time": "2023-10-15T12:12:44.120274",
     "status": "completed"
    },
    "pycharm": {
     "name": "#%% md\n"
    },
    "tags": []
   },
   "source": [
    "#### Local Setup"
   ]
  },
  {
   "cell_type": "code",
   "execution_count": 2,
   "id": "d66abdaa",
   "metadata": {
    "collapsed": false,
    "execution": {
     "iopub.execute_input": "2023-10-15T12:12:44.131951Z",
     "iopub.status.busy": "2023-10-15T12:12:44.131374Z",
     "iopub.status.idle": "2023-10-15T12:12:44.135824Z",
     "shell.execute_reply": "2023-10-15T12:12:44.135009Z"
    },
    "jupyter": {
     "outputs_hidden": false
    },
    "papermill": {
     "duration": 0.010571,
     "end_time": "2023-10-15T12:12:44.137577",
     "exception": false,
     "start_time": "2023-10-15T12:12:44.127006",
     "status": "completed"
    },
    "pycharm": {
     "name": "#%%\n"
    },
    "tags": []
   },
   "outputs": [],
   "source": [
    "# data_root = '/mnt/d/kaggle/rsna-2023-abdominal-trauma-detection'\n",
    "# model_path = './models/classifier-v1.pth'\n",
    "# %matplotlib notebook"
   ]
  },
  {
   "cell_type": "code",
   "execution_count": 3,
   "id": "09c429a6",
   "metadata": {
    "collapsed": false,
    "execution": {
     "iopub.execute_input": "2023-10-15T12:12:44.146207Z",
     "iopub.status.busy": "2023-10-15T12:12:44.145476Z",
     "iopub.status.idle": "2023-10-15T12:12:48.561330Z",
     "shell.execute_reply": "2023-10-15T12:12:48.560352Z"
    },
    "jupyter": {
     "outputs_hidden": false
    },
    "papermill": {
     "duration": 4.42251,
     "end_time": "2023-10-15T12:12:48.563682",
     "exception": false,
     "start_time": "2023-10-15T12:12:44.141172",
     "status": "completed"
    },
    "pycharm": {
     "name": "#%%\n"
    },
    "tags": []
   },
   "outputs": [
    {
     "name": "stderr",
     "output_type": "stream",
     "text": [
      "/opt/conda/lib/python3.10/site-packages/torchvision/datapoints/__init__.py:12: UserWarning: The torchvision.datapoints and torchvision.transforms.v2 namespaces are still Beta. While we do not expect major breaking changes, some APIs may still change according to user feedback. Please submit any feedback you may have in this issue: https://github.com/pytorch/vision/issues/6753, and you can also check out https://github.com/pytorch/vision/issues/7319 to learn more about the APIs that we suspect might involve future changes. You can silence this warning by calling torchvision.disable_beta_transforms_warning().\n",
      "  warnings.warn(_BETA_TRANSFORMS_WARNING)\n",
      "/opt/conda/lib/python3.10/site-packages/torchvision/transforms/v2/__init__.py:54: UserWarning: The torchvision.datapoints and torchvision.transforms.v2 namespaces are still Beta. While we do not expect major breaking changes, some APIs may still change according to user feedback. Please submit any feedback you may have in this issue: https://github.com/pytorch/vision/issues/6753, and you can also check out https://github.com/pytorch/vision/issues/7319 to learn more about the APIs that we suspect might involve future changes. You can silence this warning by calling torchvision.disable_beta_transforms_warning().\n",
      "  warnings.warn(_BETA_TRANSFORMS_WARNING)\n",
      "/opt/conda/lib/python3.10/site-packages/scipy/__init__.py:146: UserWarning: A NumPy version >=1.16.5 and <1.23.0 is required for this version of SciPy (detected version 1.23.5\n",
      "  warnings.warn(f\"A NumPy version >={np_minversion} and <{np_maxversion}\"\n"
     ]
    }
   ],
   "source": [
    "import pandas as pd\n",
    "from collections import OrderedDict\n",
    "import pydicom\n",
    "import os\n",
    "import matplotlib.pyplot as plt\n",
    "import numpy as np\n",
    "import matplotlib.image\n",
    "import matplotlib.animation as animation\n",
    "from IPython.display import HTML\n",
    "import dotenv\n",
    "import torch\n",
    "import torchvision as tv\n",
    "from torchvision.transforms import v2\n",
    "import torchvision.models as models\n",
    "from torch.nn.functional import silu, sigmoid, softmax\n",
    "from torch.utils.data import Dataset, DataLoader\n",
    "import torch.nn as nn\n",
    "from sklearn.model_selection import train_test_split\n",
    "import copy\n",
    "import gc\n",
    "\n",
    "from PIL import Image"
   ]
  },
  {
   "cell_type": "code",
   "execution_count": 4,
   "id": "c0679283",
   "metadata": {
    "collapsed": false,
    "execution": {
     "iopub.execute_input": "2023-10-15T12:12:48.578915Z",
     "iopub.status.busy": "2023-10-15T12:12:48.578474Z",
     "iopub.status.idle": "2023-10-15T12:12:48.636735Z",
     "shell.execute_reply": "2023-10-15T12:12:48.635810Z"
    },
    "jupyter": {
     "outputs_hidden": false
    },
    "papermill": {
     "duration": 0.064891,
     "end_time": "2023-10-15T12:12:48.638477",
     "exception": false,
     "start_time": "2023-10-15T12:12:48.573586",
     "status": "completed"
    },
    "pycharm": {
     "name": "#%%\n"
    },
    "tags": []
   },
   "outputs": [],
   "source": [
    "class Config:\n",
    "    BATCH_SIZE = 20\n",
    "    IMAGE_SIZE = 224\n",
    "    NUM_LAYERS = 30\n",
    "    NUM_TRAIN_USE = 100\n",
    "config = Config()\n",
    "\n",
    "# Prep a gpu (if possible) otherwise default to cpu\n",
    "torch.cuda.empty_cache()\n",
    "device = torch.device('cuda:0' if torch.cuda.is_available() else 'cpu')"
   ]
  },
  {
   "cell_type": "code",
   "execution_count": 5,
   "id": "1eeff841",
   "metadata": {
    "collapsed": false,
    "execution": {
     "iopub.execute_input": "2023-10-15T12:12:48.647634Z",
     "iopub.status.busy": "2023-10-15T12:12:48.646881Z",
     "iopub.status.idle": "2023-10-15T12:12:48.842881Z",
     "shell.execute_reply": "2023-10-15T12:12:48.841942Z"
    },
    "jupyter": {
     "outputs_hidden": false
    },
    "papermill": {
     "duration": 0.202745,
     "end_time": "2023-10-15T12:12:48.845046",
     "exception": false,
     "start_time": "2023-10-15T12:12:48.642301",
     "status": "completed"
    },
    "pycharm": {
     "name": "#%%\n"
    },
    "tags": []
   },
   "outputs": [],
   "source": [
    "infer_type = 'test' # train or test\n",
    "tags = pd.read_parquet(f'{data_root}/{infer_type}_dicom_tags.parquet')\n",
    "image_root = f'{data_root}/{infer_type}_images'\n",
    "\n",
    "test_meta_raw = pd.read_csv(f'{data_root}/{infer_type}_series_meta.csv')\n",
    "image_paths = image_root + '/' + test_meta_raw['patient_id'].astype(str) + '/' + test_meta_raw['series_id'].astype(str)\n",
    "test_meta_raw['imgroot'] = image_paths\n",
    "\n",
    "# filter out images that don't exist\n",
    "test_meta = test_meta_raw.loc[test_meta_raw['imgroot'].map(os.path.exists)]"
   ]
  },
  {
   "cell_type": "code",
   "execution_count": 6,
   "id": "13d57ea9",
   "metadata": {
    "execution": {
     "iopub.execute_input": "2023-10-15T12:12:48.853934Z",
     "iopub.status.busy": "2023-10-15T12:12:48.853382Z",
     "iopub.status.idle": "2023-10-15T12:12:48.882004Z",
     "shell.execute_reply": "2023-10-15T12:12:48.881152Z"
    },
    "papermill": {
     "duration": 0.035156,
     "end_time": "2023-10-15T12:12:48.884027",
     "exception": false,
     "start_time": "2023-10-15T12:12:48.848871",
     "status": "completed"
    },
    "tags": []
   },
   "outputs": [],
   "source": [
    "patient_scans = test_meta.groupby(['patient_id'], as_index=False).max()[['patient_id', 'series_id']]\n",
    "\n",
    "image_paths = image_root + '/' + patient_scans['patient_id'].astype(str) + '/' + patient_scans['series_id'].astype(str)\n",
    "patient_scans['imgroot'] = image_paths\n",
    "\n",
    "if infer_type == 'train':\n",
    "    patient_scans = patient_scans.iloc[:config.NUM_TRAIN_USE]\n",
    "    \n",
    "submission = pd.read_csv(f'{data_root}/sample_submission.csv')\n",
    "submission = submission.drop(index=submission.index, axis=0)\n",
    "submission['patient_id'] = patient_scans['patient_id'].unique()\n",
    "submission = submission.apply(lambda x: pd.read_csv(f'{data_root}/sample_submission.csv').loc[0], axis=1)\n",
    "submission['patient_id'] = patient_scans['patient_id'].unique()"
   ]
  },
  {
   "cell_type": "markdown",
   "id": "7d1cb09b",
   "metadata": {
    "papermill": {
     "duration": 0.003604,
     "end_time": "2023-10-15T12:12:48.891957",
     "exception": false,
     "start_time": "2023-10-15T12:12:48.888353",
     "status": "completed"
    },
    "tags": []
   },
   "source": [
    "## Input Pipeline\n",
    "Mostly taken from RSNA Training 2 :thumbsup:"
   ]
  },
  {
   "cell_type": "code",
   "execution_count": 7,
   "id": "43972b9f",
   "metadata": {
    "execution": {
     "iopub.execute_input": "2023-10-15T12:12:48.900185Z",
     "iopub.status.busy": "2023-10-15T12:12:48.899912Z",
     "iopub.status.idle": "2023-10-15T12:12:48.907760Z",
     "shell.execute_reply": "2023-10-15T12:12:48.906846Z"
    },
    "papermill": {
     "duration": 0.013956,
     "end_time": "2023-10-15T12:12:48.909409",
     "exception": false,
     "start_time": "2023-10-15T12:12:48.895453",
     "status": "completed"
    },
    "tags": []
   },
   "outputs": [],
   "source": [
    "image_augment = v2.Compose([\n",
    "    v2.Resize(config.IMAGE_SIZE, antialias=True),\n",
    "    v2.CenterCrop((config.IMAGE_SIZE, config.IMAGE_SIZE))\n",
    "])\n",
    "\n",
    "# utility functions\n",
    "def read_image(path):\n",
    "    ds = torch.from_numpy(pydicom.dcmread(path).pixel_array.astype('float32'))\n",
    "    ds -= ds.min()\n",
    "    ds /= ds.max()\n",
    "    return image_augment(ds.unsqueeze(0))[0]\n",
    "\n",
    "class MedicalDatabase(Dataset):\n",
    "    def __init__(self, source: pd.DataFrame, num_elems: int):\n",
    "        self.source = source\n",
    "        self.els = num_elems\n",
    "    def __len__(self):\n",
    "        return len(self.source)\n",
    "    def __getitem__(self, idx):\n",
    "        # 5-tuple of (is_bowel_injury, is_extravasation_injury, kidney (healthy/low/high), liver (healthy/low/high), spleen (healthy/low/high)\n",
    "        src = self.source.iloc[idx]\n",
    "\n",
    "        file_names = np.asarray(os.listdir(src['imgroot']))\n",
    "        idx = np.round(np.linspace(0, len(file_names) - 1, self.els)).astype(int)\n",
    "        files = [read_image(src['imgroot'] + '/' + x) for x in file_names[idx]]\n",
    "        files = torch.stack(files)\n",
    "        # (self.els, config.IMAGE_SIZE, config.IMAGE_SIZE)\n",
    "        files = files.unsqueeze(1).expand((-1, 3, -1, -1))\n",
    "        return src.patient_id, files\n",
    "        \n",
    "\n",
    "train_db = MedicalDatabase(patient_scans, config.NUM_LAYERS)\n",
    "train_dl = DataLoader(train_db, batch_size=1, num_workers=2)"
   ]
  },
  {
   "cell_type": "code",
   "execution_count": 8,
   "id": "65251cd9",
   "metadata": {
    "execution": {
     "iopub.execute_input": "2023-10-15T12:12:48.917879Z",
     "iopub.status.busy": "2023-10-15T12:12:48.917098Z",
     "iopub.status.idle": "2023-10-15T12:12:49.533607Z",
     "shell.execute_reply": "2023-10-15T12:12:49.532745Z"
    },
    "papermill": {
     "duration": 0.622779,
     "end_time": "2023-10-15T12:12:49.535731",
     "exception": false,
     "start_time": "2023-10-15T12:12:48.912952",
     "status": "completed"
    },
    "tags": []
   },
   "outputs": [
    {
     "data": {
      "text/plain": [
       "<matplotlib.image.AxesImage at 0x7ccd3ae42050>"
      ]
     },
     "execution_count": 8,
     "metadata": {},
     "output_type": "execute_result"
    },
    {
     "data": {
      "image/png": "[encoded data removed]",
      "text/plain": [
       "<Figure size 640x480 with 1 Axes>"
      ]
     },
     "metadata": {},
     "output_type": "display_data"
    }
   ],
   "source": [
    "plt.imshow(train_db[2][1][10].moveaxis(0, 2))"
   ]
  },
  {
   "cell_type": "markdown",
   "id": "756f764a",
   "metadata": {
    "papermill": {
     "duration": 0.005165,
     "end_time": "2023-10-15T12:12:49.545849",
     "exception": false,
     "start_time": "2023-10-15T12:12:49.540684",
     "status": "completed"
    },
    "pycharm": {
     "name": "#%% md\n"
    },
    "tags": []
   },
   "source": [
    "## Load Model"
   ]
  },
  {
   "cell_type": "code",
   "execution_count": 9,
   "id": "4fce20e0",
   "metadata": {
    "collapsed": false,
    "execution": {
     "iopub.execute_input": "2023-10-15T12:12:49.556401Z",
     "iopub.status.busy": "2023-10-15T12:12:49.556113Z",
     "iopub.status.idle": "2023-10-15T12:12:49.568707Z",
     "shell.execute_reply": "2023-10-15T12:12:49.568155Z"
    },
    "jupyter": {
     "outputs_hidden": false
    },
    "papermill": {
     "duration": 0.019641,
     "end_time": "2023-10-15T12:12:49.570273",
     "exception": false,
     "start_time": "2023-10-15T12:12:49.550632",
     "status": "completed"
    },
    "pycharm": {
     "name": "#%%\n"
    },
    "tags": []
   },
   "outputs": [],
   "source": [
    "network_preparer = v2.Compose([\n",
    "    v2.Normalize(mean=[0.485, 0.456, 0.406], std=[0.229, 0.224, 0.225])\n",
    "])\n",
    "\n",
    "class Classifier(nn.Module):\n",
    "    def __init__(self):\n",
    "        super(Classifier, self).__init__()\n",
    "        \n",
    "        # parameters to fine-tune\n",
    "        self.tune_params = []\n",
    "        \n",
    "        backbone = models.resnet50(weights=models.ResNet50_Weights.DEFAULT, progress=True)\n",
    "        for layer in list(backbone.children())[:7]:\n",
    "            for param in layer.parameters():\n",
    "                param.requires_grad = False\n",
    "        for param in backbone.layer4[:2].parameters():\n",
    "            param.requires_grad = False\n",
    "        for layer in list(backbone.layer4[2].children())[:4]:\n",
    "            for param in layer.parameters():\n",
    "                param.requires_grad = False\n",
    "        for layer in list(backbone.layer4[2].children())[4:]:\n",
    "            for param in layer.parameters():\n",
    "                param.requires_grad = True\n",
    "                self.tune_params.append(param)\n",
    "\n",
    "        backbone.fc = nn.Linear(2048, 100)\n",
    "        self.backbone = backbone\n",
    "        self.dense1 = nn.Linear(100, 100)\n",
    "        self.necks = nn.ModuleList([nn.Linear(100, 32) for _ in range(5)])\n",
    "        self.activate = nn.ModuleList([nn.Linear(32, 1), nn.Linear(32, 1), nn.Linear(32, 3), nn.Linear(32, 3), nn.Linear(32, 3)])\n",
    "        \n",
    "        self.init_params = []\n",
    "        for i in [self.backbone.fc, self.dense1, self.necks, self.activate]:\n",
    "            self.init_params += list(i.parameters())\n",
    "        \n",
    "    def forward(self, x): # batches x images x channels x width x height\n",
    "        inp_shape = x.shape\n",
    "        # run network on each image\n",
    "        x = x.reshape(shape=(-1,*x.shape[2:]))\n",
    "        x = network_preparer(x) # run some preprocessing\n",
    "        x = x.clip(0, 1)\n",
    "        x = self.backbone(x)\n",
    "        x = silu(x)\n",
    "        x = silu(self.dense1(x))\n",
    "        \n",
    "        # create necks and activate for each image\n",
    "        x = [silu(i(x)) for i in self.necks]\n",
    "        x = [silu(i(x[ind])) for ind, i in enumerate(self.activate)]\n",
    "        \n",
    "        # split images into batch and image - now it is ([batch x image x answer])\n",
    "        x = [i.reshape(shape=(*inp_shape[:2], -1)) for ind, i in enumerate(x)]\n",
    "        \n",
    "        # calculate means\n",
    "        x = [i.mean(axis=1) for i in x]\n",
    "        x = [sigmoid(x[0]).squeeze(dim=1), sigmoid(x[1]).squeeze(dim=1), softmax(x[2], dim=1), softmax(x[3], dim=1), softmax(x[4], dim=1)]\n",
    "        x = [i.clip(0, 1) for i in x]\n",
    "        x[0] = x[0].nan_to_num(0.5)\n",
    "        x[1] = x[1].nan_to_num(0.5)\n",
    "        x[2] = x[2].nan_to_num(1/3)\n",
    "        x[3] = x[3].nan_to_num(1/3)\n",
    "        x[4] = x[4].nan_to_num(1/3)\n",
    "        return tuple(x)"
   ]
  },
  {
   "cell_type": "code",
   "execution_count": 10,
   "id": "6fbcb1c7",
   "metadata": {
    "collapsed": false,
    "execution": {
     "iopub.execute_input": "2023-10-15T12:12:49.582423Z",
     "iopub.status.busy": "2023-10-15T12:12:49.582164Z",
     "iopub.status.idle": "2023-10-15T12:12:57.785657Z",
     "shell.execute_reply": "2023-10-15T12:12:57.784682Z"
    },
    "jupyter": {
     "outputs_hidden": false
    },
    "papermill": {
     "duration": 8.210792,
     "end_time": "2023-10-15T12:12:57.787597",
     "exception": false,
     "start_time": "2023-10-15T12:12:49.576805",
     "status": "completed"
    },
    "pycharm": {
     "name": "#%%\n"
    },
    "tags": []
   },
   "outputs": [
    {
     "name": "stderr",
     "output_type": "stream",
     "text": [
      "Downloading: \"https://download.pytorch.org/models/resnet50-11ad3fa6.pth\" to /root/.cache/torch/hub/checkpoints/resnet50-11ad3fa6.pth\n",
      "100%|██████████| 97.8M/97.8M [00:03<00:00, 25.7MB/s]\n"
     ]
    },
    {
     "data": {
      "text/plain": [
       "<All keys matched successfully>"
      ]
     },
     "execution_count": 10,
     "metadata": {},
     "output_type": "execute_result"
    }
   ],
   "source": [
    "model = Classifier().to(device)\n",
    "model.load_state_dict(torch.load(model_path, map_location=device))"
   ]
  },
  {
   "cell_type": "code",
   "execution_count": 11,
   "id": "dc30db92",
   "metadata": {
    "execution": {
     "iopub.execute_input": "2023-10-15T12:12:57.802301Z",
     "iopub.status.busy": "2023-10-15T12:12:57.802015Z",
     "iopub.status.idle": "2023-10-15T12:12:57.905254Z",
     "shell.execute_reply": "2023-10-15T12:12:57.904300Z"
    },
    "papermill": {
     "duration": 0.112973,
     "end_time": "2023-10-15T12:12:57.907425",
     "exception": false,
     "start_time": "2023-10-15T12:12:57.794452",
     "status": "completed"
    },
    "tags": []
   },
   "outputs": [],
   "source": [
    "analyze = torch.load(model_path, map_location=device)"
   ]
  },
  {
   "cell_type": "code",
   "execution_count": 12,
   "id": "199e5ae2",
   "metadata": {
    "execution": {
     "iopub.execute_input": "2023-10-15T12:12:57.922517Z",
     "iopub.status.busy": "2023-10-15T12:12:57.921961Z",
     "iopub.status.idle": "2023-10-15T12:12:57.957811Z",
     "shell.execute_reply": "2023-10-15T12:12:57.956852Z"
    },
    "papermill": {
     "duration": 0.04527,
     "end_time": "2023-10-15T12:12:57.959686",
     "exception": false,
     "start_time": "2023-10-15T12:12:57.914416",
     "status": "completed"
    },
    "tags": []
   },
   "outputs": [
    {
     "data": {
      "text/plain": [
       "tensor([ 0.2040, -0.0642, -0.1563], device='cuda:0')"
      ]
     },
     "execution_count": 12,
     "metadata": {},
     "output_type": "execute_result"
    }
   ],
   "source": [
    "analyze['activate.4.bias']"
   ]
  },
  {
   "cell_type": "markdown",
   "id": "8dfeadbf",
   "metadata": {
    "papermill": {
     "duration": 0.006268,
     "end_time": "2023-10-15T12:12:57.972553",
     "exception": false,
     "start_time": "2023-10-15T12:12:57.966285",
     "status": "completed"
    },
    "pycharm": {
     "name": "#%% md\n"
    },
    "tags": []
   },
   "source": [
    "## Load Data"
   ]
  },
  {
   "cell_type": "code",
   "execution_count": 13,
   "id": "71cbcf2a",
   "metadata": {
    "execution": {
     "iopub.execute_input": "2023-10-15T12:12:57.987267Z",
     "iopub.status.busy": "2023-10-15T12:12:57.986420Z",
     "iopub.status.idle": "2023-10-15T12:13:03.025942Z",
     "shell.execute_reply": "2023-10-15T12:13:03.024853Z"
    },
    "papermill": {
     "duration": 5.04906,
     "end_time": "2023-10-15T12:13:03.027947",
     "exception": false,
     "start_time": "2023-10-15T12:12:57.978887",
     "status": "completed"
    },
    "tags": []
   },
   "outputs": [
    {
     "name": "stdout",
     "output_type": "stream",
     "text": [
      "[array(0.43146339), array(0.4318113), array([0.78205562, 0.10957279, 0.10837153]), array([0.76787448, 0.11334193, 0.11878362]), array([0.73646975, 0.13149178, 0.13203847])]\n",
      "48843\n",
      "[array(0.43138671), array(0.43148851), array([0.92122597, 0.03884093, 0.03993316]), array([0.91910732, 0.0414668 , 0.03942587]), array([0.8604328 , 0.07110263, 0.06846457])]\n",
      "50046\n",
      "[array(0.43129268), array(0.43150201), array([0.86286813, 0.06833269, 0.06879923]), array([0.85614675, 0.07160106, 0.07225216]), array([0.8040148 , 0.0991402 , 0.09684503])]\n",
      "63706\n"
     ]
    }
   ],
   "source": [
    "for patient_id, data in train_dl:\n",
    "    idx = patient_id[0].cpu().detach().numpy()\n",
    "    \n",
    "    with torch.no_grad():\n",
    "        images = data.to(device)\n",
    "        out = model(images)\n",
    "        out = list(map(lambda i: i.mean(axis=0).detach().cpu().numpy().astype('float64'), out))\n",
    "    \n",
    "    print(out)\n",
    "    out[0] = max(0, min(out[0], 1))\n",
    "    out[1] = max(0, min(out[1], 1))\n",
    "    out[2] = np.clip(out[2], 0, 1)\n",
    "    out[3] = np.clip(out[3], 0, 1)\n",
    "    out[4] = np.clip(out[4], 0, 1)\n",
    "    out[2] = out[2] / out[2].sum()\n",
    "    out[3] = out[3] / out[3].sum()\n",
    "    out[4] = out[4] / out[4].sum()\n",
    "    \n",
    "    to_add = pd.Series({\n",
    "        'patient_id': idx,\n",
    "        'bowel_healthy': 1-out[0],\n",
    "        'bowel_injury': out[0],\n",
    "        'extravasation_healthy': 1-out[1],\n",
    "        'extravasation_injury': out[1],\n",
    "        'kidney_healthy': out[2][0], \n",
    "        'kidney_low': out[2][1], \n",
    "        'kidney_high': out[2][2],\n",
    "        'liver_healthy': out[3][0], \n",
    "        'liver_low': out[3][1], \n",
    "        'liver_high': out[3][2],\n",
    "        'spleen_healthy': out[4][0], \n",
    "        'spleen_low': out[4][1], \n",
    "        'spleen_high': out[4][2]\n",
    "    })\n",
    "    \n",
    "    if not to_add.isnull().values.any():\n",
    "        print(idx)\n",
    "        submission.loc[submission['patient_id'] == idx] = [to_add]"
   ]
  },
  {
   "cell_type": "code",
   "execution_count": 14,
   "id": "c05d2f5e",
   "metadata": {
    "execution": {
     "iopub.execute_input": "2023-10-15T12:13:03.044939Z",
     "iopub.status.busy": "2023-10-15T12:13:03.044642Z",
     "iopub.status.idle": "2023-10-15T12:13:03.058152Z",
     "shell.execute_reply": "2023-10-15T12:13:03.057207Z"
    },
    "papermill": {
     "duration": 0.024416,
     "end_time": "2023-10-15T12:13:03.059988",
     "exception": false,
     "start_time": "2023-10-15T12:13:03.035572",
     "status": "completed"
    },
    "tags": []
   },
   "outputs": [],
   "source": [
    "submission.astype({'patient_id': 'int32'}).to_csv('submission.csv', index=False, float_format='%.10f')"
   ]
  }
 ],
 "metadata": {
  "kernelspec": {
   "display_name": "Python 3",
   "language": "python",
   "name": "python3"
  },
  "language_info": {
   "codemirror_mode": {
    "name": "ipython",
    "version": 3
   },
   "file_extension": ".py",
   "mimetype": "text/x-python",
   "name": "python",
   "nbconvert_exporter": "python",
   "pygments_lexer": "ipython3",
   "version": "3.10.12"
  },
  "papermill": {
   "default_parameters": {},
   "duration": 24.251309,
   "end_time": "2023-10-15T12:13:05.538491",
   "environment_variables": {},
   "exception": null,
   "input_path": "__notebook__.ipynb",
   "output_path": "__notebook__.ipynb",
   "parameters": {},
   "start_time": "2023-10-15T12:12:41.287182",
   "version": "2.4.0"
  }
 },
 "nbformat": 4,
 "nbformat_minor": 5
}
